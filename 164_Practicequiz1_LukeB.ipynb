{
  "nbformat": 4,
  "nbformat_minor": 0,
  "metadata": {
    "colab": {
      "provenance": [],
      "collapsed_sections": [],
      "authorship_tag": "ABX9TyPHwE+fSeKyKYV7AsgQhPc4",
      "include_colab_link": true
    },
    "kernelspec": {
      "name": "python3",
      "display_name": "Python 3"
    },
    "language_info": {
      "name": "python"
    }
  },
  "cells": [
    {
      "cell_type": "markdown",
      "metadata": {
        "id": "view-in-github",
        "colab_type": "text"
      },
      "source": [
        "<a href=\"https://colab.research.google.com/github/lukeb2410/Classexcerises-/blob/main/164_Practicequiz1_LukeB.ipynb\" target=\"_parent\"><img src=\"https://colab.research.google.com/assets/colab-badge.svg\" alt=\"Open In Colab\"/></a>"
      ]
    },
    {
      "cell_type": "code",
      "execution_count": 2,
      "metadata": {
        "colab": {
          "base_uri": "https://localhost:8080/"
        },
        "id": "IiVJaXsmPzSn",
        "outputId": "5a2e7530-5696-43e2-f118-b607b071076e"
      },
      "outputs": [
        {
          "output_type": "stream",
          "name": "stdout",
          "text": [
            "Luke\n",
            "Luke:Welcome:\n"
          ]
        }
      ],
      "source": [
        "yourName=input()\n",
        "print(yourName, end='')\n",
        "print(':Welcome:')\n",
        "\n"
      ]
    },
    {
      "cell_type": "code",
      "source": [
        "print('Hello \\n world')\n"
      ],
      "metadata": {
        "colab": {
          "base_uri": "https://localhost:8080/"
        },
        "id": "xs38ohWXSA5J",
        "outputId": "3294e8b7-b530-4af8-9027-ecf0f4b85254"
      },
      "execution_count": 3,
      "outputs": [
        {
          "output_type": "stream",
          "name": "stdout",
          "text": [
            "Hello \n",
            " world\n"
          ]
        }
      ]
    },
    {
      "cell_type": "code",
      "source": [
        "width=float(input('provide the width of the rectangle:'))\n",
        "length=float(input('provide the length of the rectangle:'))\n",
        "perimeter=2*(width+length)\n",
        "area=(width*length)\n",
        "print('Perimeter is', perimeter)\n",
        "print('Area is', area)\n"
      ],
      "metadata": {
        "colab": {
          "base_uri": "https://localhost:8080/"
        },
        "id": "FDTKmjCsTiCA",
        "outputId": "635466f8-4067-414b-897c-6d88da30899d"
      },
      "execution_count": 20,
      "outputs": [
        {
          "output_type": "stream",
          "name": "stdout",
          "text": [
            "provide the width of the rectangle:1.4\n",
            "provide the length of the rectangle:5.6\n",
            "Perimeter is 14.0\n",
            "Area is 7.839999999999999\n"
          ]
        }
      ]
    },
    {
      "cell_type": "code",
      "source": [
        "weight=float(input('provide the weight in lbs:'))\n",
        "height=float(input('provide the height in inches'))\n",
        "BMI=(weight/(height * height)) * 703\n",
        "print('your BMI is', BMI)"
      ],
      "metadata": {
        "colab": {
          "base_uri": "https://localhost:8080/"
        },
        "id": "szE5huSKYAC6",
        "outputId": "5170f5f9-c482-454c-95f7-109438c7dbe2"
      },
      "execution_count": 28,
      "outputs": [
        {
          "output_type": "stream",
          "name": "stdout",
          "text": [
            "provide the weight in lbs:165\n",
            "provide the height in inches71\n",
            "your BMI is 23.01031541360841\n"
          ]
        }
      ]
    },
    {
      "cell_type": "code",
      "source": [
        "print('the BMI of you with weight {:.1f} and height {:.2f} is {:.3f} \\n'.format (weight, height, BMI))"
      ],
      "metadata": {
        "colab": {
          "base_uri": "https://localhost:8080/"
        },
        "id": "fagFvHhEZk9i",
        "outputId": "f31338da-5851-439f-e95b-dbc747e1467f"
      },
      "execution_count": 26,
      "outputs": [
        {
          "output_type": "stream",
          "name": "stdout",
          "text": [
            "the BMI of you with weight 165.0 and height 71.00 is 23.010 \n",
            "\n"
          ]
        }
      ]
    }
  ]
}