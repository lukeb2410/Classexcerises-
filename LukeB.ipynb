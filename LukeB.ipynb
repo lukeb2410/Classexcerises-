{
  "nbformat": 4,
  "nbformat_minor": 0,
  "metadata": {
    "colab": {
      "name": "LukeB",
      "provenance": [],
      "authorship_tag": "ABX9TyM7aj+o/9s5jIr/5GB1g8aM",
      "include_colab_link": true
    },
    "kernelspec": {
      "name": "python3",
      "display_name": "Python 3"
    },
    "language_info": {
      "name": "python"
    }
  },
  "cells": [
    {
      "cell_type": "markdown",
      "metadata": {
        "id": "view-in-github",
        "colab_type": "text"
      },
      "source": [
        "<a href=\"https://colab.research.google.com/github/lukeb2410/Classexcerises-/blob/main/LukeB.ipynb\" target=\"_parent\"><img src=\"https://colab.research.google.com/assets/colab-badge.svg\" alt=\"Open In Colab\"/></a>"
      ]
    },
    {
      "cell_type": "code",
      "execution_count": 1,
      "metadata": {
        "colab": {
          "base_uri": "https://localhost:8080/"
        },
        "id": "7rMIwCuDeFKe",
        "outputId": "ccbe71b4-e69a-4371-a906-226eaf3758da"
      },
      "outputs": [
        {
          "output_type": "stream",
          "name": "stdout",
          "text": [
            "Looking in indexes: https://pypi.org/simple, https://us-python.pkg.dev/colab-wheels/public/simple/\n",
            "Collecting pyowm\n",
            "  Downloading pyowm-3.3.0-py3-none-any.whl (4.5 MB)\n",
            "\u001b[K     |████████████████████████████████| 4.5 MB 7.7 MB/s \n",
            "\u001b[?25hRequirement already satisfied: requests<3,>=2.20.0 in /usr/local/lib/python3.7/dist-packages (from pyowm) (2.23.0)\n",
            "Collecting geojson<3,>=2.3.0\n",
            "  Downloading geojson-2.5.0-py2.py3-none-any.whl (14 kB)\n",
            "Requirement already satisfied: PySocks<2,>=1.7.1 in /usr/local/lib/python3.7/dist-packages (from pyowm) (1.7.1)\n",
            "Requirement already satisfied: chardet<4,>=3.0.2 in /usr/local/lib/python3.7/dist-packages (from requests<3,>=2.20.0->pyowm) (3.0.4)\n",
            "Requirement already satisfied: urllib3!=1.25.0,!=1.25.1,<1.26,>=1.21.1 in /usr/local/lib/python3.7/dist-packages (from requests<3,>=2.20.0->pyowm) (1.24.3)\n",
            "Requirement already satisfied: certifi>=2017.4.17 in /usr/local/lib/python3.7/dist-packages (from requests<3,>=2.20.0->pyowm) (2022.6.15)\n",
            "Requirement already satisfied: idna<3,>=2.5 in /usr/local/lib/python3.7/dist-packages (from requests<3,>=2.20.0->pyowm) (2.10)\n",
            "Installing collected packages: geojson, pyowm\n",
            "Successfully installed geojson-2.5.0 pyowm-3.3.0\n"
          ]
        }
      ],
      "source": [
        "!pip install pyowm"
      ]
    },
    {
      "cell_type": "code",
      "source": [
        "from pyowm.owm import OWM"
      ],
      "metadata": {
        "id": "lsBIVYZ2g0Xq"
      },
      "execution_count": 6,
      "outputs": []
    },
    {
      "cell_type": "code",
      "source": [
        "myKey='1c06338288cb0bb6b391bb462a678d3b'\n",
        "owm= OWM(myKey)\n",
        "wmg=owm.weather_manager()"
      ],
      "metadata": {
        "id": "-g8Ga1iJeP1r"
      },
      "execution_count": 7,
      "outputs": []
    },
    {
      "cell_type": "code",
      "source": [
        "city= input('what city would you like to teleport to: ')\n",
        "country= input('what country is the city in: ')\n",
        "citycountry=city+ ', '+country\n",
        "\n",
        "observation=wmg.weather_at_place(citycountry)\n",
        "weather=observation.weather\n",
        "\n",
        "temperature=weather.temperature('fahrenheit')\n",
        "print(temperature)\n",
        "\n",
        "feellike=temperature.get ('feels_like')\n",
        "print(feellike)\n",
        "\n",
        "if feellike < 30:\n",
        "  print ('you need a winter jacket if you want to go on a walk in', citycountry)\n",
        "elif feellike <50: \n",
        "  print ('you need a light jacket if you want to go on a walk in', citycountry)\n",
        "elif feellike <70:\n",
        "  print ('you may want to dress in layer if you want to go on a walk in', citycountry)\n",
        "else:\n",
        "  print ('you can wear your summer outfit if you want go on a walk in', citycountry)"
      ],
      "metadata": {
        "colab": {
          "base_uri": "https://localhost:8080/"
        },
        "id": "APpFuKw7h7Cw",
        "outputId": "c8b2a279-0075-4ec6-f6f9-662bec4fb776"
      },
      "execution_count": 9,
      "outputs": [
        {
          "output_type": "stream",
          "name": "stdout",
          "text": [
            "what city would you like to teleport to: Chicago\n",
            "what country is the city in: US\n",
            "{'temp': 69.1, 'temp_max': 70.39, 'temp_min': 66.49, 'feels_like': 69.6, 'temp_kf': None}\n",
            "69.6\n",
            "you may want to dress in layer if you want to go on a walk in Chicago, US\n"
          ]
        }
      ]
    }
  ]
}